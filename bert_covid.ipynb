{
  "nbformat": 4,
  "nbformat_minor": 0,
  "metadata": {
    "colab": {
      "name": "bert_covid.ipynb",
      "provenance": [],
      "collapsed_sections": [],
      "machine_shape": "hm"
    },
    "kernelspec": {
      "name": "python3",
      "display_name": "Python 3"
    },
    "accelerator": "TPU"
  },
  "cells": [
    {
      "cell_type": "code",
      "metadata": {
        "id": "sow1AAmjUTdE",
        "colab_type": "code",
        "colab": {}
      },
      "source": [
        "import json,csv,re,os\n",
        "from zipfile import ZipFile\n",
        "import re\n",
        "a=[]\n",
        "for k in os.walk(\"/content/drive/My\\ Drive/CORD-19-research-challenge/\"):\n",
        "    \n",
        "    if len(k[2])>0:\n",
        "        print(len(k[2]))\n",
        "        for z in k[2]:\n",
        "            if z.endswith(\".json\") :\n",
        "                \n",
        "                loaded_json=json.load((open(k[0]+'/'+z,\"r\")))\n",
        "                body_string=[]\n",
        "                \n",
        "                title_string=re.sub('[^a-zA-Z0-9 \\n\\.]','',loaded_json['metadata']['title'])\n",
        "                for x in loaded_json[\"body_text\"]:\n",
        "                    body_string.append(re.sub('[^a-zA-Z0-9 \\n\\.]','',x['text'])) \n",
        "                #print()\n",
        "                if len(loaded_json['abstract'])>0:\n",
        "                   abstract_string=re.sub('[^a-zA-Z0-9 \\n\\.]','',loaded_json['abstract'][0]['text'] )\n",
        "                else:\n",
        "                   abstract_string=''\n",
        "                a.append((title_string,abstract_string,body_string))\n",
        "csv_read=open(\"/content/drive/My\\ Drive/read_csv_final1.csv\",\"w\")\n",
        "for (i,j,k) in a:\n",
        "    if i==a[0][0]:\n",
        "      csv_read.write('\"{}\",\"{}\",\"{}\"'.format(\"title\",\"abstract\",\"paragraphs\"))\n",
        "    csv_read.write('\"{}\",\"{}\",\"{}\"'.format(i,j,k))\n",
        "    csv_read.write(\"\\n\")\n",
        "csv_read.close()"
      ],
      "execution_count": 0,
      "outputs": []
    },
    {
      "cell_type": "code",
      "metadata": {
        "id": "uFa8uif165BB",
        "colab_type": "code",
        "outputId": "6f200aec-5061-434e-a857-0fbf0d975563",
        "colab": {
          "base_uri": "https://localhost:8080/",
          "height": 1000
        }
      },
      "source": [
        "!pip install cdqa"
      ],
      "execution_count": 54,
      "outputs": [
        {
          "output_type": "stream",
          "text": [
            "Collecting cdqa\n",
            "\u001b[?25l  Downloading https://files.pythonhosted.org/packages/39/f5/af831b7ee653aa6bace99e39ec6b2754b1adb10bb60a1296f5e16f1f24ee/cdqa-1.3.9.tar.gz (45kB)\n",
            "\u001b[K     |████████████████████████████████| 51kB 2.0MB/s \n",
            "\u001b[?25hCollecting Flask==1.1.1\n",
            "\u001b[?25l  Downloading https://files.pythonhosted.org/packages/9b/93/628509b8d5dc749656a9641f4caf13540e2cdec85276964ff8f43bbb1d3b/Flask-1.1.1-py2.py3-none-any.whl (94kB)\n",
            "\u001b[K     |████████████████████████████████| 102kB 6.3MB/s \n",
            "\u001b[?25hCollecting flask_cors==3.0.8\n",
            "  Downloading https://files.pythonhosted.org/packages/78/38/e68b11daa5d613e3a91e4bf3da76c94ac9ee0d9cd515af9c1ab80d36f709/Flask_Cors-3.0.8-py2.py3-none-any.whl\n",
            "Collecting joblib==0.13.2\n",
            "\u001b[?25l  Downloading https://files.pythonhosted.org/packages/cd/c1/50a758e8247561e58cb87305b1e90b171b8c767b15b12a1734001f41d356/joblib-0.13.2-py2.py3-none-any.whl (278kB)\n",
            "\u001b[K     |████████████████████████████████| 286kB 61.6MB/s \n",
            "\u001b[?25hCollecting pandas==0.25.0\n",
            "\u001b[?25l  Downloading https://files.pythonhosted.org/packages/1d/9a/7eb9952f4b4d73fbd75ad1d5d6112f407e695957444cb695cbb3cdab918a/pandas-0.25.0-cp36-cp36m-manylinux1_x86_64.whl (10.5MB)\n",
            "\u001b[K     |████████████████████████████████| 10.5MB 32.6MB/s \n",
            "\u001b[?25hRequirement already satisfied: prettytable==0.7.2 in /usr/local/lib/python3.6/dist-packages (from cdqa) (0.7.2)\n",
            "Collecting transformers==2.1.1\n",
            "\u001b[?25l  Downloading https://files.pythonhosted.org/packages/fd/f9/51824e40f0a23a49eab4fcaa45c1c797cbf9761adedd0b558dab7c958b34/transformers-2.1.1-py3-none-any.whl (311kB)\n",
            "\u001b[K     |████████████████████████████████| 317kB 65.6MB/s \n",
            "\u001b[?25hCollecting scikit_learn==0.21.2\n",
            "\u001b[?25l  Downloading https://files.pythonhosted.org/packages/85/04/49633f490f726da6e454fddc8e938bbb5bfed2001681118d3814c219b723/scikit_learn-0.21.2-cp36-cp36m-manylinux1_x86_64.whl (6.7MB)\n",
            "\u001b[K     |████████████████████████████████| 6.7MB 63.1MB/s \n",
            "\u001b[?25hCollecting tika==1.19\n",
            "  Downloading https://files.pythonhosted.org/packages/10/75/b566e446ffcf292f10c8d84c15a3d91615fe3d7ca8072a17c949d4e84b66/tika-1.19.tar.gz\n",
            "Collecting torch==1.2.0\n",
            "\u001b[?25l  Downloading https://files.pythonhosted.org/packages/30/57/d5cceb0799c06733eefce80c395459f28970ebb9e896846ce96ab579a3f1/torch-1.2.0-cp36-cp36m-manylinux1_x86_64.whl (748.8MB)\n",
            "\u001b[K     |████████████████████████████████| 748.9MB 20kB/s \n",
            "\u001b[?25hCollecting markdown==3.1.1\n",
            "\u001b[?25l  Downloading https://files.pythonhosted.org/packages/c0/4e/fd492e91abdc2d2fcb70ef453064d980688762079397f779758e055f6575/Markdown-3.1.1-py2.py3-none-any.whl (87kB)\n",
            "\u001b[K     |████████████████████████████████| 92kB 12.0MB/s \n",
            "\u001b[?25hCollecting tqdm==4.32.2\n",
            "\u001b[?25l  Downloading https://files.pythonhosted.org/packages/9f/3d/7a6b68b631d2ab54975f3a4863f3c4e9b26445353264ef01f465dc9b0208/tqdm-4.32.2-py2.py3-none-any.whl (50kB)\n",
            "\u001b[K     |████████████████████████████████| 51kB 7.6MB/s \n",
            "\u001b[?25hCollecting wget==3.2\n",
            "  Downloading https://files.pythonhosted.org/packages/47/6a/62e288da7bcda82b935ff0c6cfe542970f04e29c756b0e147251b2fb251f/wget-3.2.zip\n",
            "Requirement already satisfied: Werkzeug>=0.15 in /usr/local/lib/python3.6/dist-packages (from Flask==1.1.1->cdqa) (1.0.1)\n",
            "Requirement already satisfied: Jinja2>=2.10.1 in /usr/local/lib/python3.6/dist-packages (from Flask==1.1.1->cdqa) (2.11.1)\n",
            "Requirement already satisfied: click>=5.1 in /usr/local/lib/python3.6/dist-packages (from Flask==1.1.1->cdqa) (7.1.1)\n",
            "Requirement already satisfied: itsdangerous>=0.24 in /usr/local/lib/python3.6/dist-packages (from Flask==1.1.1->cdqa) (1.1.0)\n",
            "Requirement already satisfied: Six in /usr/local/lib/python3.6/dist-packages (from flask_cors==3.0.8->cdqa) (1.12.0)\n",
            "Requirement already satisfied: python-dateutil>=2.6.1 in /usr/local/lib/python3.6/dist-packages (from pandas==0.25.0->cdqa) (2.8.1)\n",
            "Requirement already satisfied: pytz>=2017.2 in /usr/local/lib/python3.6/dist-packages (from pandas==0.25.0->cdqa) (2018.9)\n",
            "Requirement already satisfied: numpy>=1.13.3 in /usr/local/lib/python3.6/dist-packages (from pandas==0.25.0->cdqa) (1.18.2)\n",
            "Requirement already satisfied: boto3 in /usr/local/lib/python3.6/dist-packages (from transformers==2.1.1->cdqa) (1.12.38)\n",
            "Collecting sacremoses\n",
            "\u001b[?25l  Downloading https://files.pythonhosted.org/packages/99/50/93509f906a40bffd7d175f97fd75ea328ad9bd91f48f59c4bd084c94a25e/sacremoses-0.0.41.tar.gz (883kB)\n",
            "\u001b[K     |████████████████████████████████| 890kB 37.2MB/s \n",
            "\u001b[?25hRequirement already satisfied: requests in /usr/local/lib/python3.6/dist-packages (from transformers==2.1.1->cdqa) (2.21.0)\n",
            "Requirement already satisfied: regex in /usr/local/lib/python3.6/dist-packages (from transformers==2.1.1->cdqa) (2019.12.20)\n",
            "Collecting sentencepiece\n",
            "\u001b[?25l  Downloading https://files.pythonhosted.org/packages/74/f4/2d5214cbf13d06e7cb2c20d84115ca25b53ea76fa1f0ade0e3c9749de214/sentencepiece-0.1.85-cp36-cp36m-manylinux1_x86_64.whl (1.0MB)\n",
            "\u001b[K     |████████████████████████████████| 1.0MB 54.4MB/s \n",
            "\u001b[?25hRequirement already satisfied: scipy>=0.17.0 in /usr/local/lib/python3.6/dist-packages (from scikit_learn==0.21.2->cdqa) (1.4.1)\n",
            "Requirement already satisfied: setuptools in /usr/local/lib/python3.6/dist-packages (from tika==1.19->cdqa) (46.1.3)\n",
            "Requirement already satisfied: MarkupSafe>=0.23 in /usr/local/lib/python3.6/dist-packages (from Jinja2>=2.10.1->Flask==1.1.1->cdqa) (1.1.1)\n",
            "Requirement already satisfied: s3transfer<0.4.0,>=0.3.0 in /usr/local/lib/python3.6/dist-packages (from boto3->transformers==2.1.1->cdqa) (0.3.3)\n",
            "Requirement already satisfied: botocore<1.16.0,>=1.15.38 in /usr/local/lib/python3.6/dist-packages (from boto3->transformers==2.1.1->cdqa) (1.15.38)\n",
            "Requirement already satisfied: jmespath<1.0.0,>=0.7.1 in /usr/local/lib/python3.6/dist-packages (from boto3->transformers==2.1.1->cdqa) (0.9.5)\n",
            "Requirement already satisfied: chardet<3.1.0,>=3.0.2 in /usr/local/lib/python3.6/dist-packages (from requests->transformers==2.1.1->cdqa) (3.0.4)\n",
            "Requirement already satisfied: idna<2.9,>=2.5 in /usr/local/lib/python3.6/dist-packages (from requests->transformers==2.1.1->cdqa) (2.8)\n",
            "Requirement already satisfied: urllib3<1.25,>=1.21.1 in /usr/local/lib/python3.6/dist-packages (from requests->transformers==2.1.1->cdqa) (1.24.3)\n",
            "Requirement already satisfied: certifi>=2017.4.17 in /usr/local/lib/python3.6/dist-packages (from requests->transformers==2.1.1->cdqa) (2020.4.5.1)\n",
            "Requirement already satisfied: docutils<0.16,>=0.10 in /usr/local/lib/python3.6/dist-packages (from botocore<1.16.0,>=1.15.38->boto3->transformers==2.1.1->cdqa) (0.15.2)\n",
            "Building wheels for collected packages: cdqa, tika, wget, sacremoses\n",
            "  Building wheel for cdqa (setup.py) ... \u001b[?25l\u001b[?25hdone\n",
            "  Created wheel for cdqa: filename=cdqa-1.3.9-cp36-none-any.whl size=47640 sha256=6b69069a2f968dbfa5d12842a94c3fb2adac69a87a2a1b85cc73b5d1175a9cba\n",
            "  Stored in directory: /root/.cache/pip/wheels/8b/9a/68/d3f7651ea29c30d1bebc9e946bf5a8cf922e1c86fb6b8a33d9\n",
            "  Building wheel for tika (setup.py) ... \u001b[?25l\u001b[?25hdone\n",
            "  Created wheel for tika: filename=tika-1.19-cp36-none-any.whl size=29222 sha256=e38ff2a5bc1c03266b8443de170ab8b4e395d63b3a3c87f9ebe2213191dcb846\n",
            "  Stored in directory: /root/.cache/pip/wheels/b4/db/8a/3a3f0c0725448eaa92703e3dda71e29dc13a119ff6c1036848\n",
            "  Building wheel for wget (setup.py) ... \u001b[?25l\u001b[?25hdone\n",
            "  Created wheel for wget: filename=wget-3.2-cp36-none-any.whl size=9682 sha256=afc7aed9b20230f3c4e861badbe6bede2b1447dd7df1d180749dc4be8af0a03d\n",
            "  Stored in directory: /root/.cache/pip/wheels/40/15/30/7d8f7cea2902b4db79e3fea550d7d7b85ecb27ef992b618f3f\n",
            "  Building wheel for sacremoses (setup.py) ... \u001b[?25l\u001b[?25hdone\n",
            "  Created wheel for sacremoses: filename=sacremoses-0.0.41-cp36-none-any.whl size=893334 sha256=4cc745c4eed01a326b0cdef6ee87f523396dc87ecbc30b1a3ed6b9404e0deaaa\n",
            "  Stored in directory: /root/.cache/pip/wheels/22/5a/d4/b020a81249de7dc63758a34222feaa668dbe8ebfe9170cc9b1\n",
            "Successfully built cdqa tika wget sacremoses\n",
            "\u001b[31mERROR: torchvision 0.5.0 has requirement torch==1.4.0, but you'll have torch 1.2.0 which is incompatible.\u001b[0m\n",
            "\u001b[31mERROR: spacy 2.2.4 has requirement tqdm<5.0.0,>=4.38.0, but you'll have tqdm 4.32.2 which is incompatible.\u001b[0m\n",
            "\u001b[31mERROR: google-colab 1.0.0 has requirement pandas~=1.0.0; python_version >= \"3.0\", but you'll have pandas 0.25.0 which is incompatible.\u001b[0m\n",
            "Installing collected packages: Flask, flask-cors, joblib, pandas, tqdm, sacremoses, sentencepiece, transformers, scikit-learn, tika, torch, markdown, wget, cdqa\n",
            "  Found existing installation: Flask 1.1.2\n",
            "    Uninstalling Flask-1.1.2:\n",
            "      Successfully uninstalled Flask-1.1.2\n",
            "  Found existing installation: joblib 0.14.1\n",
            "    Uninstalling joblib-0.14.1:\n",
            "      Successfully uninstalled joblib-0.14.1\n",
            "  Found existing installation: pandas 1.0.3\n",
            "    Uninstalling pandas-1.0.3:\n",
            "      Successfully uninstalled pandas-1.0.3\n",
            "  Found existing installation: tqdm 4.38.0\n",
            "    Uninstalling tqdm-4.38.0:\n",
            "      Successfully uninstalled tqdm-4.38.0\n",
            "  Found existing installation: scikit-learn 0.22.2.post1\n",
            "    Uninstalling scikit-learn-0.22.2.post1:\n",
            "      Successfully uninstalled scikit-learn-0.22.2.post1\n",
            "  Found existing installation: torch 1.4.0\n",
            "    Uninstalling torch-1.4.0:\n",
            "      Successfully uninstalled torch-1.4.0\n",
            "  Found existing installation: Markdown 3.2.1\n",
            "    Uninstalling Markdown-3.2.1:\n",
            "      Successfully uninstalled Markdown-3.2.1\n",
            "Successfully installed Flask-1.1.1 cdqa-1.3.9 flask-cors-3.0.8 joblib-0.13.2 markdown-3.1.1 pandas-0.25.0 sacremoses-0.0.41 scikit-learn-0.21.2 sentencepiece-0.1.85 tika-1.19 torch-1.2.0 tqdm-4.32.2 transformers-2.1.1 wget-3.2\n"
          ],
          "name": "stdout"
        },
        {
          "output_type": "display_data",
          "data": {
            "application/vnd.colab-display-data+json": {
              "pip_warning": {
                "packages": [
                  "pandas",
                  "tqdm"
                ]
              }
            }
          },
          "metadata": {
            "tags": []
          }
        }
      ]
    },
    {
      "cell_type": "code",
      "metadata": {
        "id": "5ZXJbD197rpl",
        "colab_type": "code",
        "outputId": "882a08af-5ddc-4f0b-f276-cc42d73ba9ca",
        "colab": {
          "base_uri": "https://localhost:8080/",
          "height": 141
        }
      },
      "source": [
        "import os\n",
        "import pandas as pd\n",
        "from ast import literal_eval\n",
        "\n",
        "from cdqa.utils.filters import filter_paragraphs\n",
        "from cdqa.pipeline import QAPipeline\n",
        "from cdqa.utils.download import download_model, download_bnpp_data\n",
        "\n",
        "download_bnpp_data(dir='./data/bnpp_newsroom_v1.1/')\n",
        "download_model(model='bert-squad_1.1', dir='./models')"
      ],
      "execution_count": 56,
      "outputs": [
        {
          "output_type": "stream",
          "text": [
            "/usr/local/lib/python3.6/dist-packages/tqdm/autonotebook/__init__.py:18: TqdmExperimentalWarning: Using `tqdm.autonotebook.tqdm` in notebook mode. Use `tqdm.tqdm` instead to force console mode (e.g. in jupyter console)\n",
            "  \" (e.g. in jupyter console)\", TqdmExperimentalWarning)\n"
          ],
          "name": "stderr"
        },
        {
          "output_type": "stream",
          "text": [
            "\n",
            "Downloading BNP data...\n",
            "\n",
            "Downloading trained model...\n"
          ],
          "name": "stdout"
        }
      ]
    },
    {
      "cell_type": "code",
      "metadata": {
        "id": "OCeSl7g78A2g",
        "colab_type": "code",
        "outputId": "0c380a8f-63a6-42a4-a5bc-6759a3b54717",
        "colab": {
          "base_uri": "https://localhost:8080/",
          "height": 156
        }
      },
      "source": [
        "df = pd.read_csv('/content/read_csv_final1.csv',converters={'paragraphs': literal_eval})\n",
        "df2 = filter_paragraphs(df)\n",
        "print(df2.head())\n"
      ],
      "execution_count": 57,
      "outputs": [
        {
          "output_type": "stream",
          "text": [
            "                                               title  ...                                         paragraphs\n",
            "0                                                NaN  ...  [En 2006 il importe de souligner que lpidmie s...\n",
            "1               Infectious Disease Diagnostic Assays  ...  [tion techniques have low sensitivity are expe...\n",
            "2  Zoonotic Disease Programs for Enhancing Global...  ...  [Most infectious diseases that recently emerge...\n",
            "3                                                NaN  ...  [With the exception of routine vaccinations ne...\n",
            "4                                                NaN  ...  [Typhoons are a regular occurrence in southern...\n",
            "\n",
            "[5 rows x 3 columns]\n"
          ],
          "name": "stdout"
        }
      ]
    },
    {
      "cell_type": "code",
      "metadata": {
        "id": "94odEXcwAwq8",
        "colab_type": "code",
        "outputId": "43df8f7a-28d8-45c7-f73b-412ae587bbbc",
        "colab": {
          "base_uri": "https://localhost:8080/",
          "height": 607
        }
      },
      "source": [
        "# print(df.head())\n",
        "cdqa_pipeline = QAPipeline(reader='./models/bert_qa.joblib')\n",
        "print(cdqa_pipeline)\n",
        "cdqa_pipeline.fit_retriever(df=df2)"
      ],
      "execution_count": 60,
      "outputs": [
        {
          "output_type": "stream",
          "text": [
            "QAPipeline(reader=BertQA(adam_epsilon=1e-08, bert_model='bert-base-uncased',\n",
            "                         do_lower_case=True, fp16=False,\n",
            "                         gradient_accumulation_steps=1, learning_rate=5e-05,\n",
            "                         local_rank=-1, loss_scale=0, max_answer_length=30,\n",
            "                         n_best_size=20, no_cuda=False,\n",
            "                         null_score_diff_threshold=0.0, num_train_epochs=3.0,\n",
            "                         output_dir=None, predict_batch_size=8, seed=42,\n",
            "                         server_ip='', server_po...size=8,\n",
            "                         verbose_logging=False, version_2_with_negative=False,\n",
            "                         warmup_proportion=0.1, warmup_steps=0),\n",
            "           retrieve_by_doc=False,\n",
            "           retriever=BM25Retriever(b=0.75, floor=None, k1=2.0, lowercase=True,\n",
            "                                   max_df=0.85, min_df=2, ngram_range=(1, 2),\n",
            "                                   preprocessor=None, stop_words='english',\n",
            "                                   token_pattern='(?u)\\\\b\\\\w\\\\w+\\\\b',\n",
            "                                   tokenizer=None, top_n=20, verbose=False,\n",
            "                                   vocabulary=None))\n"
          ],
          "name": "stdout"
        },
        {
          "output_type": "execute_result",
          "data": {
            "text/plain": [
              "QAPipeline(reader=BertQA(adam_epsilon=1e-08, bert_model='bert-base-uncased',\n",
              "                         do_lower_case=True, fp16=False,\n",
              "                         gradient_accumulation_steps=1, learning_rate=5e-05,\n",
              "                         local_rank=-1, loss_scale=0, max_answer_length=30,\n",
              "                         n_best_size=20, no_cuda=False,\n",
              "                         null_score_diff_threshold=0.0, num_train_epochs=3.0,\n",
              "                         output_dir=None, predict_batch_size=8, seed=42,\n",
              "                         server_ip='', server_po...size=8,\n",
              "                         verbose_logging=False, version_2_with_negative=False,\n",
              "                         warmup_proportion=0.1, warmup_steps=0),\n",
              "           retrieve_by_doc=False,\n",
              "           retriever=BM25Retriever(b=0.75, floor=None, k1=2.0, lowercase=True,\n",
              "                                   max_df=0.85, min_df=2, ngram_range=(1, 2),\n",
              "                                   preprocessor=None, stop_words='english',\n",
              "                                   token_pattern='(?u)\\\\b\\\\w\\\\w+\\\\b',\n",
              "                                   tokenizer=None, top_n=20, verbose=False,\n",
              "                                   vocabulary=None))"
            ]
          },
          "metadata": {
            "tags": []
          },
          "execution_count": 60
        }
      ]
    },
    {
      "cell_type": "code",
      "metadata": {
        "id": "f0YkUrNDJmQd",
        "colab_type": "code",
        "colab": {}
      },
      "source": [
        "from IPython.display import display, Markdown, Latex, HTML\n",
        "\n",
        "def show(y,x):\n",
        "  # w=\n",
        "  # dh(w)\n",
        "  z=\"\"\"<div><div class=\"question_title\">{}</div><div class=\"single_answer\">{}</div></div>\"\"\".format(y ,\"<span class='answer'>\" +x + \"</span>\")\n",
        "  dh(z)\n",
        "def layout_style():\n",
        "    style = \"\"\"\n",
        "        div {\n",
        "            color: black;\n",
        "        }\n",
        "        .single_answer {\n",
        "            border-left: 3px solid #dc7b15;\n",
        "            padding-left: 10px;\n",
        "            font-family: Arial;\n",
        "            font-size: 16px;\n",
        "            color: #777777;\n",
        "            margin-left: 5px;\n",
        "\n",
        "        }\n",
        "        .answer{\n",
        "            color: #dc7b15;\n",
        "        }\n",
        "        .question_title {\n",
        "            color: grey;\n",
        "            display: block;\n",
        "            text-transform: none;\n",
        "        }      \n",
        "        div.output_scroll { \n",
        "            height: auto; \n",
        "        }\n",
        "    \"\"\"\n",
        "    return \"<style>\" + style + \"</style>\"\n",
        "\n",
        "def dh(z): display(HTML(layout_style() + z))\n"
      ],
      "execution_count": 0,
      "outputs": []
    },
    {
      "cell_type": "code",
      "metadata": {
        "id": "di1lWX2VAyj9",
        "colab_type": "code",
        "outputId": "cb5cc21d-b7ab-4fcb-d3db-a86ec74f2a3a",
        "colab": {
          "base_uri": "https://localhost:8080/",
          "height": 1000
        }
      },
      "source": [
        "\n",
        "queries = [\n",
        "    'What is known about transmission, incubation, and environmental stability?',\n",
        "    'What do we know about COVID-19 risk factors?',\n",
        "    'What do we know about virus genetics, origin, and evolution?',\n",
        "    'What do we know about vaccines and therapeutics?',\n",
        "    'What do we know about non-pharmaceutical interventions?',\n",
        "    'What has been published about medical care?',\n",
        "    'What do we know about diagnostics and surveillance?'\n",
        "    'What has been published about information sharing and inter-sectoral collaboration?',\n",
        "    'What has been published about ethical and social science considerations?'\n",
        "]\n",
        "for query in queries:\n",
        "  prediction= cdqa_pipeline.predict(query, n_predictions=20,retriever_score_weight=0.6)\n",
        "  print('Query: {}'.format(query))\n",
        "  # for x,y,z in zip(prediction[0][:-1],prediction[1][:-1],prediction[2][:-1]):\n",
        "  show('Answer',str(prediction[0][-2]))\n",
        "  show('Title',str(prediction[1][-2]))\n",
        "  show('Paragraph',str(prediction[2][-2]))\n",
        "    # if x!=prediction[0][-2]:\n",
        "      # print('-------------Next Prediction-------------')\n",
        "  if query!=queries[-1]:\n",
        "    print('---------------Next Query---------------------')\n",
        "\n",
        "  "
      ],
      "execution_count": 87,
      "outputs": [
        {
          "output_type": "stream",
          "text": [
            "Query: What is known about transmission, incubation, and environmental stability?\n"
          ],
          "name": "stdout"
        },
        {
          "output_type": "display_data",
          "data": {
            "text/html": [
              "<style>\n",
              "        div {\n",
              "            color: black;\n",
              "        }\n",
              "        .single_answer {\n",
              "            border-left: 3px solid #dc7b15;\n",
              "            padding-left: 10px;\n",
              "            font-family: Arial;\n",
              "            font-size: 16px;\n",
              "            color: #777777;\n",
              "            margin-left: 5px;\n",
              "\n",
              "        }\n",
              "        .answer{\n",
              "            color: #dc7b15;\n",
              "        }\n",
              "        .question_title {\n",
              "            color: grey;\n",
              "            display: block;\n",
              "            text-transform: none;\n",
              "        }      \n",
              "        div.output_scroll { \n",
              "            height: auto; \n",
              "        }\n",
              "    </style><div><div class=\"question_title\">Answer</div><div class=\"single_answer\"><span class='answer'>Given the high environmental stability of the virus and the potential fomite transmission together with the long virus persistence in infected animals spontaneous disappearance from a mouse population e.g. by cessation of breeding is very unlikely. Eradication of infection is possible by elimination of infected animals and subsequent replacement with uninfected mice and the agent can be eliminated from breeding populations only by embryo transfer or by hysterectomy.</span></div></div>"
            ],
            "text/plain": [
              "<IPython.core.display.HTML object>"
            ]
          },
          "metadata": {
            "tags": []
          }
        },
        {
          "output_type": "display_data",
          "data": {
            "text/html": [
              "<style>\n",
              "        div {\n",
              "            color: black;\n",
              "        }\n",
              "        .single_answer {\n",
              "            border-left: 3px solid #dc7b15;\n",
              "            padding-left: 10px;\n",
              "            font-family: Arial;\n",
              "            font-size: 16px;\n",
              "            color: #777777;\n",
              "            margin-left: 5px;\n",
              "\n",
              "        }\n",
              "        .answer{\n",
              "            color: #dc7b15;\n",
              "        }\n",
              "        .question_title {\n",
              "            color: grey;\n",
              "            display: block;\n",
              "            text-transform: none;\n",
              "        }      \n",
              "        div.output_scroll { \n",
              "            height: auto; \n",
              "        }\n",
              "    </style><div><div class=\"question_title\">Title</div><div class=\"single_answer\"><span class='answer'>Viruses do not replicate outside living cell but infectious virus may persist on contaminated environmental surfaces and the duration of persistence of viable virus is affected markedly by temperature and humidity. Contaminated surfaces are known to be significant vectors in the transmission of infections in the hospital setting as well as the community. The role of fomites in the transmission of RSV has been clearly demonstrated 20 . Survival of viruses on a variety of fomites has been studied for influenza viruses paramyxoviruses poxviruses and retroviruses 21 . The human coronavirus associated with the common cold was reported to remain viable only for 3 hours on environmental surfaces after drying although it remains viable for many days in liquid suspension 13 . Parainfluenza and RSV viruses were viable after drying on surfaces for 2 and 6 hours respectively 20 22 . In aerosolised form human coronavirus 229E is generally less stable in high humidity 12 . The environmental stability of SCoV was previously unknown and this information is clearly important for understanding the mechanisms of transmission of this virus in a hospital and community setting.</span></div></div>"
            ],
            "text/plain": [
              "<IPython.core.display.HTML object>"
            ]
          },
          "metadata": {
            "tags": []
          }
        },
        {
          "output_type": "display_data",
          "data": {
            "text/html": [
              "<style>\n",
              "        div {\n",
              "            color: black;\n",
              "        }\n",
              "        .single_answer {\n",
              "            border-left: 3px solid #dc7b15;\n",
              "            padding-left: 10px;\n",
              "            font-family: Arial;\n",
              "            font-size: 16px;\n",
              "            color: #777777;\n",
              "            margin-left: 5px;\n",
              "\n",
              "        }\n",
              "        .answer{\n",
              "            color: #dc7b15;\n",
              "        }\n",
              "        .question_title {\n",
              "            color: grey;\n",
              "            display: block;\n",
              "            text-transform: none;\n",
              "        }      \n",
              "        div.output_scroll { \n",
              "            height: auto; \n",
              "        }\n",
              "    </style><div><div class=\"question_title\">Paragraph</div><div class=\"single_answer\"><span class='answer'>Most potential biologic weapons agents also are emerging or zoonotic diseases that can be found regularly under natural conditions. The CDC has compiled a list of select agents 90 whose propagation and possession are regulated by federal law based on their lethality and potential for use as biologic weapons 91 . Possession use and transfer of select agents and toxins that pose a severe threat to public health and safety are regulated by federal law to protect the public and laboratory workers. Many zoonotic diseases appear on the overlapping select agent list meaning they are regulated by the CDC under the Department of Health and Human Services or the Department of Agriculture based on human or agricultural risk respectively. The agents that cause VHFs and 1918 pandemic influenza virus are included along with many bacterial pathogens that offer better environmental stability for weaponization. The ideal weapons agents offer a low infectious dose high case fatality rate environmental stability and efficient humantohuman transmission allowing a small inoculum to infect a large population.</span></div></div>"
            ],
            "text/plain": [
              "<IPython.core.display.HTML object>"
            ]
          },
          "metadata": {
            "tags": []
          }
        },
        {
          "output_type": "stream",
          "text": [
            "---------------Next Query---------------------\n",
            "Query: What do we know about COVID-19 risk factors?\n"
          ],
          "name": "stdout"
        },
        {
          "output_type": "display_data",
          "data": {
            "text/html": [
              "<style>\n",
              "        div {\n",
              "            color: black;\n",
              "        }\n",
              "        .single_answer {\n",
              "            border-left: 3px solid #dc7b15;\n",
              "            padding-left: 10px;\n",
              "            font-family: Arial;\n",
              "            font-size: 16px;\n",
              "            color: #777777;\n",
              "            margin-left: 5px;\n",
              "\n",
              "        }\n",
              "        .answer{\n",
              "            color: #dc7b15;\n",
              "        }\n",
              "        .question_title {\n",
              "            color: grey;\n",
              "            display: block;\n",
              "            text-transform: none;\n",
              "        }      \n",
              "        div.output_scroll { \n",
              "            height: auto; \n",
              "        }\n",
              "    </style><div><div class=\"question_title\">Answer</div><div class=\"single_answer\"><span class='answer'>Here we present details of all patients admitted to the two designated hospitals in WuhanJinyintan Hospital and Wuhan Pulmonary Hospitalwith laboratoryconfirmed COVID 19 outcome death or discharge as of Jan 31 2020. We aim to explore risk factors of inhospital death for patients and describe the clinical course of symptoms viral shedding and tem poral changes of laboratory findings during hospitalisation.</span></div></div>"
            ],
            "text/plain": [
              "<IPython.core.display.HTML object>"
            ]
          },
          "metadata": {
            "tags": []
          }
        },
        {
          "output_type": "display_data",
          "data": {
            "text/html": [
              "<style>\n",
              "        div {\n",
              "            color: black;\n",
              "        }\n",
              "        .single_answer {\n",
              "            border-left: 3px solid #dc7b15;\n",
              "            padding-left: 10px;\n",
              "            font-family: Arial;\n",
              "            font-size: 16px;\n",
              "            color: #777777;\n",
              "            margin-left: 5px;\n",
              "\n",
              "        }\n",
              "        .answer{\n",
              "            color: #dc7b15;\n",
              "        }\n",
              "        .question_title {\n",
              "            color: grey;\n",
              "            display: block;\n",
              "            text-transform: none;\n",
              "        }      \n",
              "        div.output_scroll { \n",
              "            height: auto; \n",
              "        }\n",
              "    </style><div><div class=\"question_title\">Title</div><div class=\"single_answer\"><span class='answer'>Our study is the first comprehensive attempt to systematically assess the effect of a multitude of possible risk factors on severe ALRI in children aged less than five years. We identified in total 19 risk factors which had been reported to be associated with severe ALRI in the published literature. We observed a consistent significant association between 7 risk factors lowbirthweight undernutrition indoor air pollution incomplete immunization at one year HIV breastfeeding and crowding and severe ALRI definite risk factors. We also observed that 7 risk factors parental smoking lack of maternal education vitamin D deficiency male sex preterm births anemia and zinc deficiency had an inconsistent association with severe ALRI that was not significant likely risk factors. We further observed that 5 risk factors daycare birth interval birth order previous history of ALRI and vitamin A deficiency were sporadically reported to be associated with severe ALRI possible risk factors.</span></div></div>"
            ],
            "text/plain": [
              "<IPython.core.display.HTML object>"
            ]
          },
          "metadata": {
            "tags": []
          }
        },
        {
          "output_type": "display_data",
          "data": {
            "text/html": [
              "<style>\n",
              "        div {\n",
              "            color: black;\n",
              "        }\n",
              "        .single_answer {\n",
              "            border-left: 3px solid #dc7b15;\n",
              "            padding-left: 10px;\n",
              "            font-family: Arial;\n",
              "            font-size: 16px;\n",
              "            color: #777777;\n",
              "            margin-left: 5px;\n",
              "\n",
              "        }\n",
              "        .answer{\n",
              "            color: #dc7b15;\n",
              "        }\n",
              "        .question_title {\n",
              "            color: grey;\n",
              "            display: block;\n",
              "            text-transform: none;\n",
              "        }      \n",
              "        div.output_scroll { \n",
              "            height: auto; \n",
              "        }\n",
              "    </style><div><div class=\"question_title\">Paragraph</div><div class=\"single_answer\"><span class='answer'>Evidence before this study We searched PubMed on Feb 23 2020 for articles that documented the risk factors of mortality and viral shedding in patients with coronavirus disease 2019 COVID 19  resulting from infection with severe acute respiratory syndrome coronavirus 2 SARSCoV2 using the search terms novel coronavirus OR SARSCoV2 OR COVID19 AND death OR mortality OR viral shedding with no language or time restrictions. Age comorbidities lymphocytopenia and elevated alanine aminotransferase ddimer creatine kinase highsensitivity cardiac troponin I prothrombin time and disease severity were reported to be associated with intensive care unit admission. However no published works were found about the risk factors of mortality for adult patients with COVID19. One study compared the sensitivity of SARSCoV2 RNA detection in throat and nasopharyngeal swab in 17 patients with COVID19.</span></div></div>"
            ],
            "text/plain": [
              "<IPython.core.display.HTML object>"
            ]
          },
          "metadata": {
            "tags": []
          }
        },
        {
          "output_type": "stream",
          "text": [
            "---------------Next Query---------------------\n",
            "Query: What do we know about virus genetics, origin, and evolution?\n"
          ],
          "name": "stdout"
        },
        {
          "output_type": "display_data",
          "data": {
            "text/html": [
              "<style>\n",
              "        div {\n",
              "            color: black;\n",
              "        }\n",
              "        .single_answer {\n",
              "            border-left: 3px solid #dc7b15;\n",
              "            padding-left: 10px;\n",
              "            font-family: Arial;\n",
              "            font-size: 16px;\n",
              "            color: #777777;\n",
              "            margin-left: 5px;\n",
              "\n",
              "        }\n",
              "        .answer{\n",
              "            color: #dc7b15;\n",
              "        }\n",
              "        .question_title {\n",
              "            color: grey;\n",
              "            display: block;\n",
              "            text-transform: none;\n",
              "        }      \n",
              "        div.output_scroll { \n",
              "            height: auto; \n",
              "        }\n",
              "    </style><div><div class=\"question_title\">Answer</div><div class=\"single_answer\"><span class='answer'>We know much about virus replication and disease. However our understanding of the specifi c mechanisms of persistence is generally poor. Persistence is a generally silent and inscrutable state it does not lend itself to in vitro or cell culture experimental models. We are left with but a few examples from which to attempt to extrapolate the possible existence of general relationships. The study of virus evolution thus struggles to incorporate concepts of persistence.</span></div></div>"
            ],
            "text/plain": [
              "<IPython.core.display.HTML object>"
            ]
          },
          "metadata": {
            "tags": []
          }
        },
        {
          "output_type": "display_data",
          "data": {
            "text/html": [
              "<style>\n",
              "        div {\n",
              "            color: black;\n",
              "        }\n",
              "        .single_answer {\n",
              "            border-left: 3px solid #dc7b15;\n",
              "            padding-left: 10px;\n",
              "            font-family: Arial;\n",
              "            font-size: 16px;\n",
              "            color: #777777;\n",
              "            margin-left: 5px;\n",
              "\n",
              "        }\n",
              "        .answer{\n",
              "            color: #dc7b15;\n",
              "        }\n",
              "        .question_title {\n",
              "            color: grey;\n",
              "            display: block;\n",
              "            text-transform: none;\n",
              "        }      \n",
              "        div.output_scroll { \n",
              "            height: auto; \n",
              "        }\n",
              "    </style><div><div class=\"question_title\">Title</div><div class=\"single_answer\"><span class='answer'>The 793B genotype was first isolated in China in 2003 the virus isolate was named Taian03 and the sequence of the S1 gene has been deposited in the GenBank database under the accession number AY837465. Since then some other strains of this virus also have been isolated and identified Xu et al. 2007 Han et al. 2009 . Interestingly we recently isolated a virulent nephropathogenic 793B type virus which was found to have emerged from a recombination event between the 491 vaccine strain and an LX4 type also known as QXlike virus Liu et al. 2013 . More recently we isolated another 793B genotype virus which also originated from a recombinant event that resulted in a serotype shift . These results indicate that the 793B type might be becoming a major concern to the poultry industry in China although the origin and evolution of the virus is not clear and little is known about the influence of the genotype on the ecology of other IBVs. In the present study 20 793B isolates were selected by screening 418 IBVs that were isolated from chickens during our continuous surveillance activities for IBV in China from 2009 to 2014. The molecular characteristics antigenicity and pathogenicity of the 20 viruses were investigated to further elucidate the origin and evolution of IBV isolates genotypically related to 793B viruses in China.</span></div></div>"
            ],
            "text/plain": [
              "<IPython.core.display.HTML object>"
            ]
          },
          "metadata": {
            "tags": []
          }
        },
        {
          "output_type": "display_data",
          "data": {
            "text/html": [
              "<style>\n",
              "        div {\n",
              "            color: black;\n",
              "        }\n",
              "        .single_answer {\n",
              "            border-left: 3px solid #dc7b15;\n",
              "            padding-left: 10px;\n",
              "            font-family: Arial;\n",
              "            font-size: 16px;\n",
              "            color: #777777;\n",
              "            margin-left: 5px;\n",
              "\n",
              "        }\n",
              "        .answer{\n",
              "            color: #dc7b15;\n",
              "        }\n",
              "        .question_title {\n",
              "            color: grey;\n",
              "            display: block;\n",
              "            text-transform: none;\n",
              "        }      \n",
              "        div.output_scroll { \n",
              "            height: auto; \n",
              "        }\n",
              "    </style><div><div class=\"question_title\">Paragraph</div><div class=\"single_answer\"><span class='answer'>Several epidemiological surveys have been made to determine the PRCVseroprevalence in Spain Yus et al. 1989 Cubero et al. 1990 Lanza et al. 1990  but the origin and evolution of PRCVinfection in herds was unknown. In order to establish when PRCVinfection appeared in Spain and its evolution during the following years a retrospective survey was conducted. Furthermore a seroepidemiological study was made during 1991 to determine the TGEVand PRCVseroprevalence in the breeding farms of Catalunya.</span></div></div>"
            ],
            "text/plain": [
              "<IPython.core.display.HTML object>"
            ]
          },
          "metadata": {
            "tags": []
          }
        },
        {
          "output_type": "stream",
          "text": [
            "---------------Next Query---------------------\n",
            "Query: What do we know about vaccines and therapeutics?\n"
          ],
          "name": "stdout"
        },
        {
          "output_type": "display_data",
          "data": {
            "text/html": [
              "<style>\n",
              "        div {\n",
              "            color: black;\n",
              "        }\n",
              "        .single_answer {\n",
              "            border-left: 3px solid #dc7b15;\n",
              "            padding-left: 10px;\n",
              "            font-family: Arial;\n",
              "            font-size: 16px;\n",
              "            color: #777777;\n",
              "            margin-left: 5px;\n",
              "\n",
              "        }\n",
              "        .answer{\n",
              "            color: #dc7b15;\n",
              "        }\n",
              "        .question_title {\n",
              "            color: grey;\n",
              "            display: block;\n",
              "            text-transform: none;\n",
              "        }      \n",
              "        div.output_scroll { \n",
              "            height: auto; \n",
              "        }\n",
              "    </style><div><div class=\"question_title\">Answer</div><div class=\"single_answer\"><span class='answer'>The Filoviridae family consists of the Ebolavirus Marburgvirus and Cuevavirus genera. Historically Ebola virus EBOV Zaire ebolavirus species has been the most common and deadly of the filoviruses. Therefore the research community has largely focused on the development of EBOV animal models tools vaccines and therapeutics and has been successful in producing several compounds that have reached the late stages of clinical trials 1 2 . In light of this success it is now possible to extend further research towards the discovery of panfilovirus vaccines and therapeutics. However animal models that are susceptible to all ebolaviruses species will need to be established first in order to directly evaluate whether panfilovirus vaccines and therapeutics provide crossprotection.</span></div></div>"
            ],
            "text/plain": [
              "<IPython.core.display.HTML object>"
            ]
          },
          "metadata": {
            "tags": []
          }
        },
        {
          "output_type": "display_data",
          "data": {
            "text/html": [
              "<style>\n",
              "        div {\n",
              "            color: black;\n",
              "        }\n",
              "        .single_answer {\n",
              "            border-left: 3px solid #dc7b15;\n",
              "            padding-left: 10px;\n",
              "            font-family: Arial;\n",
              "            font-size: 16px;\n",
              "            color: #777777;\n",
              "            margin-left: 5px;\n",
              "\n",
              "        }\n",
              "        .answer{\n",
              "            color: #dc7b15;\n",
              "        }\n",
              "        .question_title {\n",
              "            color: grey;\n",
              "            display: block;\n",
              "            text-transform: none;\n",
              "        }      \n",
              "        div.output_scroll { \n",
              "            height: auto; \n",
              "        }\n",
              "    </style><div><div class=\"question_title\">Title</div><div class=\"single_answer\"><span class='answer'>With the possible expansion of 2019nCoV globally 8 and the declaration of the 2019nCoV outbreak as a Public Health Emergency of International Concern by the World Health Organization there is an urgent need for rapid diagnostics vaccines and therapeutics to detect prevent and contain 2019nCoV promptly. There is however currently a lack of understanding of what is available in the early phase of 2019nCoV outbreak. The systematic review describes and assesses the potential rapid diagnostics vaccines and therapeutics for 2019nCoV based in part on the developments for MERSCoV and SARSCoV.</span></div></div>"
            ],
            "text/plain": [
              "<IPython.core.display.HTML object>"
            ]
          },
          "metadata": {
            "tags": []
          }
        },
        {
          "output_type": "display_data",
          "data": {
            "text/html": [
              "<style>\n",
              "        div {\n",
              "            color: black;\n",
              "        }\n",
              "        .single_answer {\n",
              "            border-left: 3px solid #dc7b15;\n",
              "            padding-left: 10px;\n",
              "            font-family: Arial;\n",
              "            font-size: 16px;\n",
              "            color: #777777;\n",
              "            margin-left: 5px;\n",
              "\n",
              "        }\n",
              "        .answer{\n",
              "            color: #dc7b15;\n",
              "        }\n",
              "        .question_title {\n",
              "            color: grey;\n",
              "            display: block;\n",
              "            text-transform: none;\n",
              "        }      \n",
              "        div.output_scroll { \n",
              "            height: auto; \n",
              "        }\n",
              "    </style><div><div class=\"question_title\">Paragraph</div><div class=\"single_answer\"><span class='answer'>There are a number of challenges that must be overcome to ensure adequate preparedness for future Ebola outbreaks including completing the remaining advanced development activities necessary for regulatory approval and subsequent stockpiling of these medical countermeasures for use during a public health emergency. BARDA remains committed to making available safe and effective FDAapproved vaccines and therapeutics for Ebola public health emergencies. Despite the advancement of the aforementioned vaccines and therapeutics against Ebola gaps remain in our overall preparedness posture against other filoviruses. As such BARDA will be pursuing the development of vaccines and therapeutics against Sudan ebolavirus and Marburg virus to address this gap. While we acknowledge that much work remains to prepare for future filovirus outbreaks the recently announced BARDA awards for vaccines and therapeutics against Ebola represent an important milestone in our preparedness and ongoing commitment to counter this health security threat.</span></div></div>"
            ],
            "text/plain": [
              "<IPython.core.display.HTML object>"
            ]
          },
          "metadata": {
            "tags": []
          }
        },
        {
          "output_type": "stream",
          "text": [
            "---------------Next Query---------------------\n",
            "Query: What do we know about non-pharmaceutical interventions?\n"
          ],
          "name": "stdout"
        },
        {
          "output_type": "display_data",
          "data": {
            "text/html": [
              "<style>\n",
              "        div {\n",
              "            color: black;\n",
              "        }\n",
              "        .single_answer {\n",
              "            border-left: 3px solid #dc7b15;\n",
              "            padding-left: 10px;\n",
              "            font-family: Arial;\n",
              "            font-size: 16px;\n",
              "            color: #777777;\n",
              "            margin-left: 5px;\n",
              "\n",
              "        }\n",
              "        .answer{\n",
              "            color: #dc7b15;\n",
              "        }\n",
              "        .question_title {\n",
              "            color: grey;\n",
              "            display: block;\n",
              "            text-transform: none;\n",
              "        }      \n",
              "        div.output_scroll { \n",
              "            height: auto; \n",
              "        }\n",
              "    </style><div><div class=\"question_title\">Answer</div><div class=\"single_answer\"><span class='answer'>Pharmaceutical interventions alone cannot be relied upon to stem the tide of pandemic outbreaks. While influenza transmission can be halted with the use of antiviral medications mutations in the virus necessitate that a new vaccine be produced for each new flu strain. Vaccination production can take up to six months to complete with the burdens of delays likely shortages and virus mismatch reducing the potential impact of the vaccine. Furthermore pharmaceutical interventions often require consultation with a physician or in more severe cases hospitalization. These requirements reduce the potential impact of pharmaceutical interventions due to the fact that many people do not have access to health care or refuse to be seen by a health care provider. Additionally it is often impossible to satisfy this requirement during a pandemic influenza outbreak because the demand for staff facilities and equipment often exceeds the supply 5 . The limitations of pharmaceutical interventions during pandemic influenza outbreaks highlight the importance of also incorporating nonpharmaceutical interventions in public health campaigns aimed at limiting respiratory infectious disease spread.</span></div></div>"
            ],
            "text/plain": [
              "<IPython.core.display.HTML object>"
            ]
          },
          "metadata": {
            "tags": []
          }
        },
        {
          "output_type": "display_data",
          "data": {
            "text/html": [
              "<style>\n",
              "        div {\n",
              "            color: black;\n",
              "        }\n",
              "        .single_answer {\n",
              "            border-left: 3px solid #dc7b15;\n",
              "            padding-left: 10px;\n",
              "            font-family: Arial;\n",
              "            font-size: 16px;\n",
              "            color: #777777;\n",
              "            margin-left: 5px;\n",
              "\n",
              "        }\n",
              "        .answer{\n",
              "            color: #dc7b15;\n",
              "        }\n",
              "        .question_title {\n",
              "            color: grey;\n",
              "            display: block;\n",
              "            text-transform: none;\n",
              "        }      \n",
              "        div.output_scroll { \n",
              "            height: auto; \n",
              "        }\n",
              "    </style><div><div class=\"question_title\">Title</div><div class=\"single_answer\"><span class='answer'>Finally individuals in certain demographic categories may be most receptive to pharmaceutical interventions. Young women from large households expressed the highest level of interests in pharmaceutical interventions and thus may be a potentially successful target of pharmaceutical intervention campaigns. Further study is needed to examine how perceptions and behavior change in response to intervention campaigns.</span></div></div>"
            ],
            "text/plain": [
              "<IPython.core.display.HTML object>"
            ]
          },
          "metadata": {
            "tags": []
          }
        },
        {
          "output_type": "display_data",
          "data": {
            "text/html": [
              "<style>\n",
              "        div {\n",
              "            color: black;\n",
              "        }\n",
              "        .single_answer {\n",
              "            border-left: 3px solid #dc7b15;\n",
              "            padding-left: 10px;\n",
              "            font-family: Arial;\n",
              "            font-size: 16px;\n",
              "            color: #777777;\n",
              "            margin-left: 5px;\n",
              "\n",
              "        }\n",
              "        .answer{\n",
              "            color: #dc7b15;\n",
              "        }\n",
              "        .question_title {\n",
              "            color: grey;\n",
              "            display: block;\n",
              "            text-transform: none;\n",
              "        }      \n",
              "        div.output_scroll { \n",
              "            height: auto; \n",
              "        }\n",
              "    </style><div><div class=\"question_title\">Paragraph</div><div class=\"single_answer\"><span class='answer'>Our survey conducted at the initial stage of outbreak indicated that perceptions about the risks associated with 2009 H1N1 pandemic influenza as well as interest in pharmaceutical interventions and precautionary activities showed changes over time and variations over geography and demography. Although the perceived likelihood of H1N1 infection increased over time interest in preventive pharmaceutical interventions and engagement in information seeking activities declined. These declines were correlated with the decrease in media attention to H1N1 throughout May 2009. We did not observe the decline in engagement in quarantine measures partly because of the small number of respondents who reported the activities.</span></div></div>"
            ],
            "text/plain": [
              "<IPython.core.display.HTML object>"
            ]
          },
          "metadata": {
            "tags": []
          }
        },
        {
          "output_type": "stream",
          "text": [
            "---------------Next Query---------------------\n",
            "Query: What has been published about medical care?\n"
          ],
          "name": "stdout"
        },
        {
          "output_type": "display_data",
          "data": {
            "text/html": [
              "<style>\n",
              "        div {\n",
              "            color: black;\n",
              "        }\n",
              "        .single_answer {\n",
              "            border-left: 3px solid #dc7b15;\n",
              "            padding-left: 10px;\n",
              "            font-family: Arial;\n",
              "            font-size: 16px;\n",
              "            color: #777777;\n",
              "            margin-left: 5px;\n",
              "\n",
              "        }\n",
              "        .answer{\n",
              "            color: #dc7b15;\n",
              "        }\n",
              "        .question_title {\n",
              "            color: grey;\n",
              "            display: block;\n",
              "            text-transform: none;\n",
              "        }      \n",
              "        div.output_scroll { \n",
              "            height: auto; \n",
              "        }\n",
              "    </style><div><div class=\"question_title\">Answer</div><div class=\"single_answer\"><span class='answer'>Clinical guidelines are meant to establish accepted standards of care and may have important economic implications. Medical Letter published by the Consumers Union is a longstanding and useful publication that reviews therapeutic issues of everyday medical practice and the relevant studies. It represents a balanced updated view of medical practice and summaries of current literature reviewed by respected experienced and competent medical authorities. Clinical practice guidelines are produced by hundreds of professional medical and governmental agencies in order to standardize and improve medical care.</span></div></div>"
            ],
            "text/plain": [
              "<IPython.core.display.HTML object>"
            ]
          },
          "metadata": {
            "tags": []
          }
        },
        {
          "output_type": "display_data",
          "data": {
            "text/html": [
              "<style>\n",
              "        div {\n",
              "            color: black;\n",
              "        }\n",
              "        .single_answer {\n",
              "            border-left: 3px solid #dc7b15;\n",
              "            padding-left: 10px;\n",
              "            font-family: Arial;\n",
              "            font-size: 16px;\n",
              "            color: #777777;\n",
              "            margin-left: 5px;\n",
              "\n",
              "        }\n",
              "        .answer{\n",
              "            color: #dc7b15;\n",
              "        }\n",
              "        .question_title {\n",
              "            color: grey;\n",
              "            display: block;\n",
              "            text-transform: none;\n",
              "        }      \n",
              "        div.output_scroll { \n",
              "            height: auto; \n",
              "        }\n",
              "    </style><div><div class=\"question_title\">Title</div><div class=\"single_answer\"><span class='answer'>After 2005 the government took measures to increase the coverage of medical insurance. The government became aware of the importance of medical service to public welfare. They planned to raise the fiscal budget for the medical care system. However reform will never cease until people can access to more affordable accessible and equal medical service in this first largest populated country. And the milestone in this period is the publication of new scheme for medical care reform in 2009. The government promised to increase the fiscal subsidies rather than rely on market to sufficiently satisfy peoples needs for basic medical services. Meanwhile it would investment 850 million yuan in the next two years to deepen the reform including accelerating the establishment of basic medical care insurance system and essential drug system improving the communitylevel medical service system increasing the equalization in the public medical services and the pilot experiments on public hospital reforms.</span></div></div>"
            ],
            "text/plain": [
              "<IPython.core.display.HTML object>"
            ]
          },
          "metadata": {
            "tags": []
          }
        },
        {
          "output_type": "display_data",
          "data": {
            "text/html": [
              "<style>\n",
              "        div {\n",
              "            color: black;\n",
              "        }\n",
              "        .single_answer {\n",
              "            border-left: 3px solid #dc7b15;\n",
              "            padding-left: 10px;\n",
              "            font-family: Arial;\n",
              "            font-size: 16px;\n",
              "            color: #777777;\n",
              "            margin-left: 5px;\n",
              "\n",
              "        }\n",
              "        .answer{\n",
              "            color: #dc7b15;\n",
              "        }\n",
              "        .question_title {\n",
              "            color: grey;\n",
              "            display: block;\n",
              "            text-transform: none;\n",
              "        }      \n",
              "        div.output_scroll { \n",
              "            height: auto; \n",
              "        }\n",
              "    </style><div><div class=\"question_title\">Paragraph</div><div class=\"single_answer\"><span class='answer'>The outbreak of the severe acute respiratory syndrome SARS epidemic that occurred during 2003 exposed serious deficiencies in Taiwan  s medical care and public health care systems as well as its medical education system. The Department of Health Executive Yuan of Taiwan ROC has made efforts in promoting the Project of Reforming Taiwans Medical Care and Public Healthcare System since the spread of SARS was controlled. The reform of the medical care system aimed to provide better holistic medical treatment to people. The strategies and methods are strengthening the improvement of resident education and quality of medical care. A project titled Postgraduate General Medical Training Program was announced by the Department of Health in August 2003. Through this project each doctor in hisher first year of residency including internal medicine family medicine surgery pediatrics dermatologist ophthalmologist etc. is required to fulfill 3 months of an internal medical training course along with 36 hours of basic courses. In the past there was no such program in Taiwan to provide general medical training for medical students after graduation. Therefore the goal of this program is to ensure that all PGY 1 residents have acquired Accreditation Council for Graduate Medical Education ACGME core competence in internal medical care.</span></div></div>"
            ],
            "text/plain": [
              "<IPython.core.display.HTML object>"
            ]
          },
          "metadata": {
            "tags": []
          }
        },
        {
          "output_type": "stream",
          "text": [
            "---------------Next Query---------------------\n",
            "Query: What do we know about diagnostics and surveillance?What has been published about information sharing and inter-sectoral collaboration?\n"
          ],
          "name": "stdout"
        },
        {
          "output_type": "display_data",
          "data": {
            "text/html": [
              "<style>\n",
              "        div {\n",
              "            color: black;\n",
              "        }\n",
              "        .single_answer {\n",
              "            border-left: 3px solid #dc7b15;\n",
              "            padding-left: 10px;\n",
              "            font-family: Arial;\n",
              "            font-size: 16px;\n",
              "            color: #777777;\n",
              "            margin-left: 5px;\n",
              "\n",
              "        }\n",
              "        .answer{\n",
              "            color: #dc7b15;\n",
              "        }\n",
              "        .question_title {\n",
              "            color: grey;\n",
              "            display: block;\n",
              "            text-transform: none;\n",
              "        }      \n",
              "        div.output_scroll { \n",
              "            height: auto; \n",
              "        }\n",
              "    </style><div><div class=\"question_title\">Answer</div><div class=\"single_answer\"><span class='answer'>The aim is to support cooperation and coordinated action of EUMS to improve their capacities at points of entry airports ports groundcrossings in preventing and combating crossborder health threats from the transport sector. The action activities include the following a facilitating EU MS evaluating and monitoring of core capacities at PoE b strengthening inter sectoral and cross sectoral collaboration through a communication network c producing catalogues of tested best practices guidelines and validated action plans d providing capacity buildingtraining on tested best practices guidelines validated action plans e facilitating EU MSs coordinating and executing hygiene inspections on conveyances f combatting all types of health threats focusing on infectious disease and vectors g supporting response to possible future public health emergencies of international concern. In future public health emergencies the action will move from interepidemic mode to emergency mode supporting coherent response as per Decision n10822013EU International Health Regulations and WHO temporary recommendations.</span></div></div>"
            ],
            "text/plain": [
              "<IPython.core.display.HTML object>"
            ]
          },
          "metadata": {
            "tags": []
          }
        },
        {
          "output_type": "display_data",
          "data": {
            "text/html": [
              "<style>\n",
              "        div {\n",
              "            color: black;\n",
              "        }\n",
              "        .single_answer {\n",
              "            border-left: 3px solid #dc7b15;\n",
              "            padding-left: 10px;\n",
              "            font-family: Arial;\n",
              "            font-size: 16px;\n",
              "            color: #777777;\n",
              "            margin-left: 5px;\n",
              "\n",
              "        }\n",
              "        .answer{\n",
              "            color: #dc7b15;\n",
              "        }\n",
              "        .question_title {\n",
              "            color: grey;\n",
              "            display: block;\n",
              "            text-transform: none;\n",
              "        }      \n",
              "        div.output_scroll { \n",
              "            height: auto; \n",
              "        }\n",
              "    </style><div><div class=\"question_title\">Title</div><div class=\"single_answer\"><span class='answer'>One review suggests that there is little reason in theory why cooperation in information sharing could not continue but this depends on financing and investment in collaboration and the UK being given adequacy status under GDPR for sharing of personal information 27 . Many countries aspiring to be in the EU aspire to EU standards in health security management for example Turkey as an accession state 31 .</span></div></div>"
            ],
            "text/plain": [
              "<IPython.core.display.HTML object>"
            ]
          },
          "metadata": {
            "tags": []
          }
        },
        {
          "output_type": "display_data",
          "data": {
            "text/html": [
              "<style>\n",
              "        div {\n",
              "            color: black;\n",
              "        }\n",
              "        .single_answer {\n",
              "            border-left: 3px solid #dc7b15;\n",
              "            padding-left: 10px;\n",
              "            font-family: Arial;\n",
              "            font-size: 16px;\n",
              "            color: #777777;\n",
              "            margin-left: 5px;\n",
              "\n",
              "        }\n",
              "        .answer{\n",
              "            color: #dc7b15;\n",
              "        }\n",
              "        .question_title {\n",
              "            color: grey;\n",
              "            display: block;\n",
              "            text-transform: none;\n",
              "        }      \n",
              "        div.output_scroll { \n",
              "            height: auto; \n",
              "        }\n",
              "    </style><div><div class=\"question_title\">Paragraph</div><div class=\"single_answer\"><span class='answer'>Since the outbreak of atypical pneumonia cases was detected in Wuhan at the end of December 2019 the Chinese Center for Disease Control and Prevention China CDC has launched a new surveillance system first in Wuhan then extended to the entire country to record information on COVID19 cases. Case definitions for suspected cases and laboratoryconfirmed cases and the description of the surveillance system have been published 1 and reported elsewhere 5 . Details are summarized in Appendix page 2.</span></div></div>"
            ],
            "text/plain": [
              "<IPython.core.display.HTML object>"
            ]
          },
          "metadata": {
            "tags": []
          }
        },
        {
          "output_type": "stream",
          "text": [
            "---------------Next Query---------------------\n",
            "Query: What has been published about ethical and social science considerations?\n"
          ],
          "name": "stdout"
        },
        {
          "output_type": "display_data",
          "data": {
            "text/html": [
              "<style>\n",
              "        div {\n",
              "            color: black;\n",
              "        }\n",
              "        .single_answer {\n",
              "            border-left: 3px solid #dc7b15;\n",
              "            padding-left: 10px;\n",
              "            font-family: Arial;\n",
              "            font-size: 16px;\n",
              "            color: #777777;\n",
              "            margin-left: 5px;\n",
              "\n",
              "        }\n",
              "        .answer{\n",
              "            color: #dc7b15;\n",
              "        }\n",
              "        .question_title {\n",
              "            color: grey;\n",
              "            display: block;\n",
              "            text-transform: none;\n",
              "        }      \n",
              "        div.output_scroll { \n",
              "            height: auto; \n",
              "        }\n",
              "    </style><div><div class=\"question_title\">Answer</div><div class=\"single_answer\"><span class='answer'>In January 2006 the Council set up a working party to examine the ethical issues surrounding public health. This was chaired by Lord Krebs and included members with expertise in health economics law philosophy public health policy health promotion and social science. This article summarizes some of the conclusions and recommendations that were published in the report Public health ethical issues 1 in November 2007 and presented to the UK Public Health Association Annual Public Health Forum in April 2008.</span></div></div>"
            ],
            "text/plain": [
              "<IPython.core.display.HTML object>"
            ]
          },
          "metadata": {
            "tags": []
          }
        },
        {
          "output_type": "display_data",
          "data": {
            "text/html": [
              "<style>\n",
              "        div {\n",
              "            color: black;\n",
              "        }\n",
              "        .single_answer {\n",
              "            border-left: 3px solid #dc7b15;\n",
              "            padding-left: 10px;\n",
              "            font-family: Arial;\n",
              "            font-size: 16px;\n",
              "            color: #777777;\n",
              "            margin-left: 5px;\n",
              "\n",
              "        }\n",
              "        .answer{\n",
              "            color: #dc7b15;\n",
              "        }\n",
              "        .question_title {\n",
              "            color: grey;\n",
              "            display: block;\n",
              "            text-transform: none;\n",
              "        }      \n",
              "        div.output_scroll { \n",
              "            height: auto; \n",
              "        }\n",
              "    </style><div><div class=\"question_title\">Title</div><div class=\"single_answer\"><span class='answer'>Research involving bioethics and social equity helps scientists incorporate ethical principles in the design and conduct studies involving human participants affected by public health emergencies 78 . Such studies are critically important for research examining the effectiveness of candidate vaccines and medicines understanding pathogen transmission and infection in natural settings and testing nonpharmaceutical interventions for disease prevention and mitigation. Although such studies have been conducted for years the U.S. National Academies of Science Engineering and Medicine highlighted research needs for preparedness and response to public health emergencies and associated bioethical considerations 79 . This focus on the bioethics of disaster research has prompted nongovernmental and governmental organizations alike to evaluate challenges and identify solutions to promote ethical practices in research during public health emergencies. Building on this and other social science research can promote the development and implementation of clinical and public health research that takes into account the culture society and benefits to and needs of research participants.</span></div></div>"
            ],
            "text/plain": [
              "<IPython.core.display.HTML object>"
            ]
          },
          "metadata": {
            "tags": []
          }
        },
        {
          "output_type": "display_data",
          "data": {
            "text/html": [
              "<style>\n",
              "        div {\n",
              "            color: black;\n",
              "        }\n",
              "        .single_answer {\n",
              "            border-left: 3px solid #dc7b15;\n",
              "            padding-left: 10px;\n",
              "            font-family: Arial;\n",
              "            font-size: 16px;\n",
              "            color: #777777;\n",
              "            margin-left: 5px;\n",
              "\n",
              "        }\n",
              "        .answer{\n",
              "            color: #dc7b15;\n",
              "        }\n",
              "        .question_title {\n",
              "            color: grey;\n",
              "            display: block;\n",
              "            text-transform: none;\n",
              "        }      \n",
              "        div.output_scroll { \n",
              "            height: auto; \n",
              "        }\n",
              "    </style><div><div class=\"question_title\">Paragraph</div><div class=\"single_answer\"><span class='answer'>In the interest of comprehensiveness this study reviews various types of work journal articles  book reviews published in both Englishand Chineselanguage journals that studied crisis communication in the three regions Mainland China Taiwan and Hong Kong from two academic perspectives public relations and communication. The criteria used for journal selection were high general reputation a strong influence on Chinese communication research and accreditation by way of inclusion in certain scholarly indices such as the Social Science Index SSCI the Chinese Social Science Index CSSCI and the Taiwanese Social Science Index TSSCI. We first looked at two major journals in the field of public relations the In order to represent academic journals from Hong Kong Communication and Society TSSCI was reviewed. 1 Titles of articles were queried with the key words crisiscrises and abstracts were queried with the key words ChinaChineseTaiwanTaiwaneseHong KongMacauMacanese. Only articles focusing on crisis management were included in the final sample. Articles selected for analysis were published in 15 academic journals between 1999 and 2014. These articles focused explicitly on Chinese crisis communication. Initial keyword searches were conducted in January 2012 further keyword searches were conducted in October 2014. This yielded a total of 93 articles for analysis 56 in January 2012 and 37 in October 2014. 2</span></div></div>"
            ],
            "text/plain": [
              "<IPython.core.display.HTML object>"
            ]
          },
          "metadata": {
            "tags": []
          }
        }
      ]
    },
    {
      "cell_type": "code",
      "metadata": {
        "id": "C6WJcNJO-Fgi",
        "colab_type": "code",
        "outputId": "45c6d4f7-b90d-46e8-8e0d-c835ffcfc672",
        "colab": {
          "base_uri": "https://localhost:8080/",
          "height": 52
        }
      },
      "source": [
        "!unzip /content/drive/My\\ Drive/read_csv_final1.zip"
      ],
      "execution_count": 55,
      "outputs": [
        {
          "output_type": "stream",
          "text": [
            "Archive:  /content/drive/My Drive/read_csv_final1.zip\n",
            "  inflating: read_csv_final1.csv     \n"
          ],
          "name": "stdout"
        }
      ]
    }
  ]
}